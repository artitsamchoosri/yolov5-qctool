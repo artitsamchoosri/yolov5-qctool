{
 "cells": [
  {
   "cell_type": "code",
   "execution_count": 1,
   "id": "8f0938a8-a70c-409f-9912-4d62ef214e8a",
   "metadata": {},
   "outputs": [
    {
     "name": "stdout",
     "output_type": "stream",
     "text": [
      "\u001b[34m\u001b[1mdetect: \u001b[0mweights=['dataset/last.pt'], source=dataset/test/images/IMG_7509_JPG.rf.deea8060005fe6873958d04c4f9e4c72.jpg, imgsz=[640, 640], conf_thres=0.25, iou_thres=0.45, max_det=1000, device=, view_img=False, save_txt=False, save_conf=False, save_crop=False, nosave=False, classes=None, agnostic_nms=False, augment=False, visualize=False, update=False, project=runs\\detect, name=exp, exist_ok=False, line_thickness=3, hide_labels=False, hide_conf=False, half=False, dnn=False"
     ]
    },
    {
     "name": "stderr",
     "output_type": "stream",
     "text": [
      "YOLOv5  2021-10-16 torch 1.11.0 CUDA:0 (NVIDIA GeForce 920MX, 2047.875MB)\n",
      "\n",
      "Fusing layers... \n",
      "Model Summary: 213 layers, 7015519 parameters, 0 gradients\n",
      "C:\\Users\\ddc\\.conda\\envs\\yolov5\\lib\\site-packages\\torch\\functional.py:568: UserWarning: torch.meshgrid: in an upcoming release, it will be required to pass the indexing argument. (Triggered internally at  C:\\cb\\pytorch_1000000000000\\work\\aten\\src\\ATen\\native\\TensorShape.cpp:2228.)\n",
      "  return _VF.meshgrid(tensors, **kwargs)  # type: ignore[attr-defined]\n"
     ]
    },
    {
     "name": "stdout",
     "output_type": "stream",
     "text": [
      "\n",
      "image 1/1 C:\\Users\\ddc\\yolov5-master2\\dataset\\test\\images\\IMG_7509_JPG.rf.deea8060005fe6873958d04c4f9e4c72.jpg: 640x640 1 chap, 1 lines, Done. (0.343s)\n",
      "Speed: 13.0ms pre-process, 343.0ms inference, 159.0ms NMS per image at shape (1, 3, 640, 640)\n",
      "Results saved to \u001b[1mruns\\detect\\exp2\u001b[0m\n"
     ]
    }
   ],
   "source": [
    "!python detect.py --weights dataset/last.pt --source dataset/test/images/IMG_7509_JPG.rf.deea8060005fe6873958d04c4f9e4c72.jpg"
   ]
  },
  {
   "cell_type": "code",
   "execution_count": null,
   "id": "cf17e63c-1bc2-4257-bfec-2a339f779fde",
   "metadata": {},
   "outputs": [],
   "source": []
  }
 ],
 "metadata": {
  "kernelspec": {
   "display_name": "Python 3 (ipykernel)",
   "language": "python",
   "name": "python3"
  },
  "language_info": {
   "codemirror_mode": {
    "name": "ipython",
    "version": 3
   },
   "file_extension": ".py",
   "mimetype": "text/x-python",
   "name": "python",
   "nbconvert_exporter": "python",
   "pygments_lexer": "ipython3",
   "version": "3.9.12"
  }
 },
 "nbformat": 4,
 "nbformat_minor": 5
}
